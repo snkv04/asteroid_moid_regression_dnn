{
  "nbformat": 4,
  "nbformat_minor": 0,
  "metadata": {
    "colab": {
      "provenance": [],
      "gpuType": "T4"
    },
    "kernelspec": {
      "name": "python3",
      "display_name": "Python 3"
    },
    "language_info": {
      "name": "python"
    },
    "accelerator": "GPU"
  },
  "cells": [
    {
      "cell_type": "code",
      "execution_count": 1,
      "metadata": {
        "colab": {
          "base_uri": "https://localhost:8080/"
        },
        "id": "y8nwa4WRhG-9",
        "outputId": "e5fb9acc-7678-4e98-ba65-1942d3fb90a3"
      },
      "outputs": [
        {
          "output_type": "stream",
          "name": "stdout",
          "text": [
            "tf.__version__ = 2.15.0\n"
          ]
        }
      ],
      "source": [
        "# Imports TensorFlow.\n",
        "\n",
        "import tensorflow as tf\n",
        "print(f\"tf.__version__ = {tf.__version__}\")\n",
        "SEED = 42\n",
        "tf.random.set_seed(SEED)"
      ]
    },
    {
      "cell_type": "code",
      "source": [
        "# Prepares to load the data from a file on Google Drive.\n",
        "\n",
        "from google.colab import drive\n",
        "\n",
        "drive.mount(\"/content/drive\")\n",
        "\n",
        "prefix = \"/content/drive/\"\n",
        "relative_path = \"My Drive/Colab Notebooks/\"\n",
        "dataset_file_name = \"asteroid_dataset.csv\"\n",
        "absolute_path = prefix + relative_path + dataset_file_name"
      ],
      "metadata": {
        "colab": {
          "base_uri": "https://localhost:8080/"
        },
        "id": "69StBUvHiPbd",
        "outputId": "c58d67e3-8099-44a5-880e-4a9f5ff5c7ee"
      },
      "execution_count": 2,
      "outputs": [
        {
          "output_type": "stream",
          "name": "stdout",
          "text": [
            "Drive already mounted at /content/drive; to attempt to forcibly remount, call drive.mount(\"/content/drive\", force_remount=True).\n"
          ]
        }
      ]
    },
    {
      "cell_type": "code",
      "source": [
        "# Loads the data.\n",
        "\n",
        "import numpy as np\n",
        "\n",
        "np.random.seed(SEED)\n",
        "\n",
        "def load_data(path):\n",
        "    dataset = np.genfromtxt(path, delimiter=\",\", skip_header=1)\n",
        "    dataset_original = list()\n",
        "    with open(path) as file:\n",
        "        columns = file.readline().split(\",\")\n",
        "        column_to_num = {}\n",
        "        for i in range(len(columns)):\n",
        "            column_to_num[columns[i]] = i\n",
        "        lines = file.readlines()\n",
        "        for line in lines:\n",
        "            dataset_original.append(line.split(\",\"))\n",
        "    return columns, column_to_num, dataset, dataset_original\n",
        "\n",
        "cols, col_to_num, dataset, dataset_original = load_data(absolute_path)\n",
        "print(f\"cols = {cols}\")\n",
        "print(f\"col_to_num = {col_to_num}\")\n",
        "print(f\"type(dataset) = {type(dataset)}\")\n",
        "print(f\"dataset.shape = {dataset.shape}\")\n",
        "print(f\"type(dataset_original) = {type(dataset_original)}\")\n",
        "print(f\"len(dataset_original) = {len(dataset_original)}\")\n",
        "print(f\"len(dataset_original[0]) = {len(dataset_original[0])}\")\n",
        "print(f\"dataset_original[0] = {dataset_original[0]}\")\n",
        "print(f\"dataset_original[1] = {dataset_original[1]}\")"
      ],
      "metadata": {
        "id": "_ppS1xrrnuJZ",
        "colab": {
          "base_uri": "https://localhost:8080/"
        },
        "outputId": "f5124096-d154-43f8-a809-9a51b37a97e8"
      },
      "execution_count": 48,
      "outputs": [
        {
          "output_type": "stream",
          "name": "stdout",
          "text": [
            "cols = ['id', 'spkid', 'full_name', 'pdes', 'name', 'prefix', 'neo', 'pha', 'H', 'diameter', 'albedo', 'diameter_sigma', 'orbit_id', 'epoch', 'epoch_mjd', 'epoch_cal', 'equinox', 'e', 'a', 'q', 'i', 'om', 'w', 'ma', 'ad', 'n', 'tp', 'tp_cal', 'per', 'per_y', 'moid', 'moid_ld', 'sigma_e', 'sigma_a', 'sigma_q', 'sigma_i', 'sigma_om', 'sigma_w', 'sigma_ma', 'sigma_ad', 'sigma_n', 'sigma_tp', 'sigma_per', 'class', 'rms\\n']\n",
            "col_to_num = {'id': 0, 'spkid': 1, 'full_name': 2, 'pdes': 3, 'name': 4, 'prefix': 5, 'neo': 6, 'pha': 7, 'H': 8, 'diameter': 9, 'albedo': 10, 'diameter_sigma': 11, 'orbit_id': 12, 'epoch': 13, 'epoch_mjd': 14, 'epoch_cal': 15, 'equinox': 16, 'e': 17, 'a': 18, 'q': 19, 'i': 20, 'om': 21, 'w': 22, 'ma': 23, 'ad': 24, 'n': 25, 'tp': 26, 'tp_cal': 27, 'per': 28, 'per_y': 29, 'moid': 30, 'moid_ld': 31, 'sigma_e': 32, 'sigma_a': 33, 'sigma_q': 34, 'sigma_i': 35, 'sigma_om': 36, 'sigma_w': 37, 'sigma_ma': 38, 'sigma_ad': 39, 'sigma_n': 40, 'sigma_tp': 41, 'sigma_per': 42, 'class': 43, 'rms\\n': 44}\n",
            "type(dataset) = <class 'numpy.ndarray'>\n",
            "dataset.shape = (958524, 45)\n",
            "type(dataset_original) = <class 'list'>\n",
            "len(dataset_original) = 958524\n",
            "len(dataset_original[0]) = 45\n",
            "dataset_original[0] = ['a0000001', '2000001', '\"     1 Ceres\"', '1', 'Ceres', '', 'N', 'N', '3.4', '939.4', '0.090', '0.2', '\"JPL 47\"', '2458600.5', '58600', '20190427.0000000', 'J2000', '.0760090265983052', '2.769165148633284', '2.558683601195717', '10.59406719506626', '80.30553090445737', '73.59769469844186', '77.37209751948711', '2.979646696070851', '.2138852265918273', '2458238.754129317955', '20180430.2541293', '1683.145702657688', '4.60820178687936', '1.59478', '620.6405326', '4.819E-12', '1.0328E-11', '1.9569E-11', '4.6089E-9', '6.1688E-8', '6.6248E-8', '7.8207E-9', '1.1113E-11', '1.1965E-12', '3.7829E-8', '9.4159E-9', 'MBA', '.43301\\n']\n",
            "dataset_original[1] = ['a0000002', '2000002', '\"     2 Pallas\"', '2', 'Pallas', '', 'N', 'N', '4.2', '545', '0.101', '18', '\"JPL 37\"', '2459000.5', '59000', '20200531.0000000', 'J2000', '.2299722588646258', '2.773841434873298', '2.135934854363191', '34.83293159121413', '173.0247412488342', '310.2023924446679', '144.9756754788195', '3.411748015383405', '.213344586343708', '2458320.962365774508', '20180721.4623658', '1687.410991624711', '4.61987951163507', '1.23429', '480.3486393', '3.1934E-8', '4.0337E-9', '8.8322E-8', '3.4694E-6', '6.2724E-6', '9.1282E-6', '8.8591E-6', '4.9613E-9', '4.6536E-10', '4.0787E-5', '3.6807E-6', 'MBA', '.35936\\n']\n"
          ]
        }
      ]
    },
    {
      "cell_type": "code",
      "source": [
        "# Preprocesses the dataset.\n",
        "\n",
        "# Counts the number of rows without a MOID value.\n",
        "moid_nan_count = 0\n",
        "havent_found = True\n",
        "for i in range(len(dataset)):\n",
        "    if np.isnan(dataset[i][col_to_num[\"moid\"]]):\n",
        "        moid_nan_count += 1\n",
        "print(f\"number of rows without a MOID value = {moid_nan_count}\")\n",
        "\n",
        "# Removes all rows without a MOID value.\n",
        "print(f\"col_to_num[\\\"moid\\\"] = {col_to_num['moid']}\") # 30\n",
        "moid_column = dataset[:, 30]\n",
        "nan_indices = np.isnan(moid_column)\n",
        "dataset = dataset[~nan_indices]\n",
        "print(f\"shape of dataset after removing rows where MOID==np.nan = {dataset.shape}\")\n",
        "\n",
        "# Replaces all np.nan values in the dataset with the median of the corresponding column.\n",
        "median_per_column = np.nanmedian(dataset, axis=0)\n",
        "for col_index in range(dataset.shape[1]):\n",
        "    column = dataset[:, col_index]\n",
        "    col_median = median_per_column[col_index]\n",
        "    updated_column = np.where(np.isnan(column), col_median, column)\n",
        "    dataset[:, col_index] = updated_column\n",
        "# nan_count = 0\n",
        "# for j in range(dataset.shape[1]):\n",
        "#     if np.isnan(median_per_column[j]):\n",
        "#             continue\n",
        "#     for i in range(dataset.shape[0]):\n",
        "#         if np.isnan(dataset[i][j]):\n",
        "#             nan_count += 1\n",
        "# # alternate way to do this below\n",
        "# # nan_count = np.sum(np.isnan(dataset[:, ~np.isnan(median_per_column)]))\n",
        "# print(f\"nan_count = {nan_count}\") # 0, as expected"
      ],
      "metadata": {
        "id": "TAh6HkjeoPRw",
        "colab": {
          "base_uri": "https://localhost:8080/"
        },
        "outputId": "533cc91f-9b8c-4477-f8e6-c32c95a935e5"
      },
      "execution_count": 49,
      "outputs": [
        {
          "output_type": "stream",
          "name": "stdout",
          "text": [
            "number of rows without a MOID value = 19921\n",
            "col_to_num[\"moid\"] = 30\n",
            "shape of dataset after removing rows where MOID==np.nan = (938603, 45)\n"
          ]
        },
        {
          "output_type": "stream",
          "name": "stderr",
          "text": [
            "/usr/local/lib/python3.10/dist-packages/numpy/lib/nanfunctions.py:1217: RuntimeWarning: All-NaN slice encountered\n",
            "  return function_base._ureduce(a, func=_nanmedian, keepdims=keepdims,\n"
          ]
        }
      ]
    },
    {
      "cell_type": "code",
      "source": [
        "# Examines correlations...\n",
        "\n",
        "# Creates the correlation coefficient matrix and retrieves the last column.\n",
        "moid_col_index = col_to_num[\"moid\"] # 30\n",
        "other_col_indices = np.r_[0:moid_col_index, moid_col_index+1:dataset.shape[1]]\n",
        "# print(f\"moid_col_index = {moid_col_index}\")\n",
        "# print(f\"other_col_indices = {other_col_indices}\")\n",
        "moid_col = dataset[:, moid_col_index]\n",
        "other_cols = dataset[:, other_col_indices]\n",
        "corr_coeff_matrix = np.corrcoef(other_cols.T, moid_col)\n",
        "# print(f\"corr_coeff_matrix = \\n{corr_coeff_matrix}\")\n",
        "corr_coeffs = corr_coeff_matrix[:, -1]\n",
        "print(f\"corr_coeffs = {list(corr_coeffs)}\")\n",
        "print(f\"corr_coeffs.shape = {corr_coeffs.shape}\")\n",
        "\n",
        "# This takes a column number and returns the index of (the value that\n",
        "# corresponds to that column) in the last column of the correlation coefficient\n",
        "# matrix. This is only necessary because the correlation coefficient matrix\n",
        "# makes it so that the MOID attribute's correlation (with itself) is the last\n",
        "# value in the array holding all the variables' correlations with the MOID,\n",
        "# so all the columns after column 30 (the MOID column) are pushed down by 1.\n",
        "mapper = lambda x : (\n",
        "    44 if x == col_to_num[\"moid\"] else\n",
        "    x if x < col_to_num[\"moid\"] else\n",
        "    x - 1\n",
        ")\n",
        "\n",
        "# Looks at which columns correlate most strongly with MOID.\n",
        "# The unusual initialization of the copy of the \"cols\" array was done\n",
        "# because there were (seemingly) randomly occurring issues with the ordering\n",
        "# resulting from the sorting of the column names based on their r-values\n",
        "# across different runs and runtime sessions on Google Colab.\n",
        "cols_sorted_by_abs_r = list(set(list(set(cols))))\n",
        "cols_sorted_by_abs_r.sort(key=lambda x : -abs(corr_coeffs[mapper(col_to_num[x])]))\n",
        "print(f\"variables sorted by strength of correlation with MOID = \\n\\t{cols_sorted_by_abs_r}\")\n",
        "\n",
        "# Prints out the 10 variables most strongly correlating with the MOID, skipping\n",
        "# the MOID itself (and itself in different units).\n",
        "print(\"\\nTop 10 Asteroid Attributes by Their Correlation with MOID\")\n",
        "for i in range(0, 12):\n",
        "    col_name = cols_sorted_by_abs_r[i]\n",
        "    print(f\"variable: {col_name}\".ljust(20),\n",
        "          f\"| corr coeff: {corr_coeffs[mapper(col_to_num[col_name])]}\")\n",
        "print()\n",
        "\n",
        "# Plots MOID vs. absolute visual magnitude.\n",
        "import matplotlib.pyplot as plt\n",
        "H_col = dataset[:, col_to_num[\"H\"]]\n",
        "moid_col = dataset[:, moid_col_index]\n",
        "plt.scatter(H_col, moid_col)\n",
        "plt.xlabel('Absolute Visual Magnitude (H) (unitless)')\n",
        "plt.ylabel('Minimum Orbit Intersection Distance (MOID) (au)')\n",
        "plt.title('MOID vs. H')\n",
        "plt.show()\n",
        "plt.scatter(H_col, np.log(moid_col))\n",
        "plt.xlabel('Absolute Visual Magnitude (H) (unitless)')\n",
        "plt.ylabel('Natural Log of Minimum Orbit Intersection Distance (MOID) (au)')\n",
        "plt.title('Natural Log of MOID vs. H')\n",
        "plt.show()\n",
        "print(f\"r between H and moid = {np.corrcoef(H_col, moid_col)}\")\n",
        "print(f\"r between H and ln(moid) = {np.corrcoef(H_col, np.log(moid_col))}\")"
      ],
      "metadata": {
        "id": "4D0uyz3lq_e-",
        "colab": {
          "base_uri": "https://localhost:8080/",
          "height": 1000
        },
        "outputId": "9a29c024-1fa1-4e65-8eea-325bb106733c"
      },
      "execution_count": 50,
      "outputs": [
        {
          "output_type": "stream",
          "name": "stdout",
          "text": [
            "corr_coeffs = [nan, -0.001650607560795202, nan, 0.016168271800843455, nan, nan, nan, nan, -0.43293027633519665, 0.029995203386217476, -0.02186195740697237, 0.03455994310840457, -0.04657055657269744, -0.06580492702693183, -0.06580492702693189, -0.06555113961121616, nan, -0.10920005194204746, 0.074200194166103, 0.9997330277737632, 0.04476961534345561, -0.011179816287031403, -0.002129793211985501, -0.002331953487457889, 0.053807985680579117, -0.3189857583770792, -0.08639705458546577, -0.08597566049269649, 0.0055426223825724005, 0.005542617922457213, 1.0, 0.09869936389707969, 0.051210468650299656, 0.11993139203228935, 0.09627627501109719, 0.01857499120205132, 0.030089766270059087, 0.03008843861922968, 0.04211382403769728, 0.0011861754711095908, 0.029425669594401942, 0.03660648781665387, nan, -0.005547245103893778, 1.0]\n",
            "corr_coeffs.shape = (45,)\n",
            "variables sorted by strength of correlation with MOID = \n",
            "\t['prefix', 'diameter', 'pha', 'sigma_q', 'id', 'H', 'n', 'e', 'name', 'moid', 'moid_ld', 'q', 'sigma_e', 'sigma_i', 'tp', 'tp_cal', 'a', 'epoch_mjd', 'epoch', 'ad', 'sigma_a', 'orbit_id', 'i', 'diameter_sigma', 'sigma_ma', 'albedo', 'class', 'epoch_cal', 'sigma_ad', 'sigma_per', 'sigma_w', 'sigma_tp', 'sigma_om', 'pdes', 'om', 'rms\\n', 'per', 'per_y', 'ma', 'w', 'spkid', 'sigma_n', 'full_name', 'neo', 'equinox']\n",
            "\n",
            "Top 10 Asteroid Attributes by Their Correlation with MOID\n",
            "variable: prefix     | corr coeff: nan\n",
            "variable: diameter   | corr coeff: 0.029995203386217476\n",
            "variable: pha        | corr coeff: nan\n",
            "variable: sigma_q    | corr coeff: 0.11993139203228935\n",
            "variable: id         | corr coeff: nan\n",
            "variable: H          | corr coeff: -0.43293027633519665\n",
            "variable: n          | corr coeff: -0.3189857583770792\n",
            "variable: e          | corr coeff: -0.10920005194204746\n",
            "variable: name       | corr coeff: nan\n",
            "variable: moid       | corr coeff: 1.0\n",
            "variable: moid_ld    | corr coeff: 1.0\n",
            "variable: q          | corr coeff: 0.9997330277737632\n",
            "\n"
          ]
        },
        {
          "output_type": "display_data",
          "data": {
            "text/plain": [
              "<Figure size 640x480 with 1 Axes>"
            ],
            "image/png": "[encoded data removed]"
          },
          "metadata": {}
        },
        {
          "output_type": "display_data",
          "data": {
            "text/plain": [
              "<Figure size 640x480 with 1 Axes>"
            ],
            "image/png": "[encoded data removed]"
          },
          "metadata": {}
        },
        {
          "output_type": "stream",
          "name": "stdout",
          "text": [
            "r between H and moid = [[ 1.         -0.43293028]\n",
            " [-0.43293028  1.        ]]\n",
            "r between H and ln(moid) = [[ 1.         -0.71588623]\n",
            " [-0.71588623  1.        ]]\n"
          ]
        }
      ]
    },
    {
      "cell_type": "code",
      "source": [
        "# Shuffles the dataset.\n",
        "np.random.shuffle(dataset)\n",
        "np.random.shuffle(dataset)"
      ],
      "metadata": {
        "id": "DbhRV7sYrXN2"
      },
      "execution_count": 51,
      "outputs": []
    },
    {
      "cell_type": "code",
      "source": [
        "# Takes a subset of the dataset to obtain a more balanced distribution.\n",
        "\n",
        "moid_col_index = 30 # col_to_num[\"moid\"]\n",
        "moid_col = dataset[:, moid_col_index]\n",
        "leq_0p05 = moid_col < 0.05\n",
        "\n",
        "rows_leq = dataset[leq_0p05]\n",
        "rows_greater = dataset[~leq_0p05]\n",
        "np.random.shuffle(rows_leq)\n",
        "np.random.shuffle(rows_greater)\n",
        "\n",
        "rows_greater_reduced = rows_greater[:rows_leq.shape[0]]\n",
        "dataset = np.concatenate((rows_leq, rows_greater_reduced), axis=0)\n",
        "np.random.shuffle(dataset)"
      ],
      "metadata": {
        "id": "NTUBQ1Q4KGIR"
      },
      "execution_count": 52,
      "outputs": []
    },
    {
      "cell_type": "code",
      "source": [
        "# Replaces the MOID values with their natural log.\n",
        "dataset[:, moid_col_index] = np.log(dataset[:, moid_col_index])"
      ],
      "metadata": {
        "id": "oOVD6GwHA3WW"
      },
      "execution_count": 53,
      "outputs": []
    },
    {
      "cell_type": "code",
      "source": [
        "# Prepares the data to be used for training.\n",
        "\n",
        "# Obtains only the columns desired for the input to the model and puts them\n",
        "# all together into a 2D array, putting the \"label\" or \"y\" column (the MOID\n",
        "# values) as the rightmost column of the returned 2D array.\n",
        "def select_columns(dataset, input_cols, output_col):\n",
        "    input_data = dataset[:, input_cols]\n",
        "    output_data = dataset[:, output_col]\n",
        "    output_data = np.reshape(output_data, (-1, 1))\n",
        "    one_big_block = np.concatenate((input_data, output_data), axis=1)\n",
        "    return one_big_block\n",
        "\n",
        "# Splits the data for training/cross-validation/testing.\n",
        "# (The cross-validation dataset was later not used.)\n",
        "def split_data(dataset, split):\n",
        "    train_proportion, cross_val_proportion, test_proportion = split\n",
        "    assert train_proportion + cross_val_proportion + test_proportion == 1\n",
        "    num_rows = len(dataset)\n",
        "    cross_val_index = int(train_proportion * num_rows)\n",
        "    test_index = int((train_proportion + cross_val_proportion) * num_rows)\n",
        "    # print(f\"cross_val_index = {cross_val_index}, test_index = {test_index}\")\n",
        "    # print(dataset.shape)\n",
        "\n",
        "    num_cols = len(dataset[0])\n",
        "    x_train = dataset[0:cross_val_index, :-1]\n",
        "    y_train = dataset[0:cross_val_index, -1]\n",
        "    x_cross_val = dataset[cross_val_index:test_index, :-1]\n",
        "    y_cross_val = dataset[cross_val_index:test_index, -1]\n",
        "    x_test = dataset[test_index:num_rows, :-1]\n",
        "    y_test = dataset[test_index:num_rows, -1]\n",
        "    # print(f\"x_train.shape = {x_train.shape}\")\n",
        "    print(f\"x_train = {x_train}\")\n",
        "    # print(f\"y_train.shape = {y_train.shape}\")\n",
        "    # print(f\"y_train = {y_train}\")\n",
        "    # print(f\"x_cross_val.shape = {x_cross_val.shape}\")\n",
        "    # print(f\"y_cross_val.shape = {y_cross_val.shape}\")\n",
        "    # print(f\"x_test.shape = {x_test.shape}\")\n",
        "    # print(f\"y_test.shape = {y_test.shape}\")\n",
        "\n",
        "    return ((x_train, y_train), (x_cross_val, y_cross_val), (x_test, y_test))\n",
        "\n",
        "# Modifies the dataset to only use the desired columns.\n",
        "priority_cols = ['H', 'n', 'sigma_q', 'e', 'sigma_e', 'tp', 'a', 'epoch_mjd',\n",
        "                 'epoch', 'epoch_cal']\n",
        "priority_col_indices = np.array([col_to_num[col_name] for col_name in priority_cols])\n",
        "moid_col_index = 30 # col_to_num[\"moid\"]\n",
        "reduced_dataset = select_columns(dataset, priority_col_indices, moid_col_index)\n",
        "print(f\"reduced_dataset.shape = {reduced_dataset.shape}\")\n",
        "\n",
        "# Scales the dataset's values down to use them more effectively in training.\n",
        "from sklearn.preprocessing import RobustScaler\n",
        "scaler = RobustScaler()\n",
        "scaled_dataset = scaler.fit_transform(reduced_dataset)\n",
        "# print(f\"scaled_dataset.shape = {scaled_dataset.shape}\")\n",
        "# print(f\"scaled_dataset = \\n{scaled_dataset}\")\n",
        "# unscaled_dataset = scaler.inverse_transform(scaled_dataset)\n",
        "# print(f\"inverted dataset = \\n{unscaled_dataset}\")\n",
        "# print(f\"original dataset = \\n{dataset}\")\n",
        "\n",
        "# Actually performs the splitting of data here.\n",
        "(x_train, y_train), (x_cross_val, y_cross_val), (x_test, y_test) = split_data(scaled_dataset, (0.8, 0.1, 0.1))\n",
        "print(f\"x_train.shape = {x_train.shape}\")\n",
        "print(f\"y_train.shape = {y_train.shape}\")\n",
        "print(f\"x_cross_val.shape = {x_cross_val.shape}\")\n",
        "print(f\"y_cross_val.shape = {y_cross_val.shape}\")\n",
        "print(f\"x_test.shape = {x_test.shape}\")\n",
        "print(f\"y_test.shape = {y_test.shape}\")\n",
        "\n",
        "# for i in range(len(dataset)):\n",
        "#   if dataset[i][col_to_num[\"moid\"]] < 0.05:\n",
        "#     print(f\"i = {i}, {dataset[i][col_to_num['moid']]}\")\n"
      ],
      "metadata": {
        "colab": {
          "base_uri": "https://localhost:8080/"
        },
        "id": "FKsyzOE9sLC5",
        "outputId": "101dda8d-b66f-4536-becc-1e9519e36ccb"
      },
      "execution_count": 54,
      "outputs": [
        {
          "output_type": "stream",
          "name": "stdout",
          "text": [
            "reduced_dataset.shape = (22248, 11)\n",
            "x_train = [[-4.32375000e-01 -3.79951839e-01 -9.82850356e-03 ...  0.00000000e+00\n",
            "   0.00000000e+00  0.00000000e+00]\n",
            " [-2.32375000e-01 -2.19649997e-01 -9.77815120e-03 ...  0.00000000e+00\n",
            "   0.00000000e+00  0.00000000e+00]\n",
            " [ 8.30125000e-01  6.37096338e-01  6.82182260e-02 ...  0.00000000e+00\n",
            "   0.00000000e+00  0.00000000e+00]\n",
            " ...\n",
            " [-3.82375000e-01 -1.93786439e-01 -1.04861952e-02 ...  0.00000000e+00\n",
            "   0.00000000e+00  0.00000000e+00]\n",
            " [ 5.92625000e-01 -1.32009521e-01  4.25033233e-01 ... -2.73000000e+02\n",
            "  -2.73000000e+02 -9.63000000e+03]\n",
            " [ 1.19262500e+00  7.79432954e-02  1.40409955e+02 ... -1.07260000e+04\n",
            "  -1.07260000e+04 -2.90413000e+05]]\n",
            "x_train.shape = (17798, 10)\n",
            "y_train.shape = (17798,)\n",
            "x_cross_val.shape = (2225, 10)\n",
            "y_cross_val.shape = (2225,)\n",
            "x_test.shape = (2225, 10)\n",
            "y_test.shape = (2225,)\n"
          ]
        }
      ]
    },
    {
      "cell_type": "code",
      "source": [
        "# Builds the deep neural network (DNN).\n",
        "\n",
        "model = tf.keras.models.Sequential([\n",
        "    tf.keras.layers.Dense(16, activation=\"sigmoid\", input_shape=(10,)),\n",
        "    tf.keras.layers.Dense(32, activation=\"sigmoid\"),\n",
        "    tf.keras.layers.Dense(16, activation=\"sigmoid\"),\n",
        "    tf.keras.layers.Dropout(0.5, seed=SEED),\n",
        "    tf.keras.layers.Dense(1)\n",
        "])\n",
        "\n",
        "print(model.summary())\n",
        "\n",
        "predictions = model(x_train).numpy()\n",
        "print(predictions)\n",
        "print(type(predictions))\n",
        "print(predictions.shape)"
      ],
      "metadata": {
        "colab": {
          "base_uri": "https://localhost:8080/"
        },
        "id": "h27KxsqfsLMk",
        "outputId": "95f41f31-9917-418f-e466-41b529fd7c09"
      },
      "execution_count": 73,
      "outputs": [
        {
          "output_type": "stream",
          "name": "stdout",
          "text": [
            "Model: \"sequential_4\"\n",
            "_________________________________________________________________\n",
            " Layer (type)                Output Shape              Param #   \n",
            "=================================================================\n",
            " dense_18 (Dense)            (None, 16)                176       \n",
            "                                                                 \n",
            " dense_19 (Dense)            (None, 32)                544       \n",
            "                                                                 \n",
            " dense_20 (Dense)            (None, 16)                528       \n",
            "                                                                 \n",
            " dropout_4 (Dropout)         (None, 16)                0         \n",
            "                                                                 \n",
            " dense_21 (Dense)            (None, 1)                 17        \n",
            "                                                                 \n",
            "=================================================================\n",
            "Total params: 1265 (4.94 KB)\n",
            "Trainable params: 1265 (4.94 KB)\n",
            "Non-trainable params: 0 (0.00 Byte)\n",
            "_________________________________________________________________\n",
            "None\n",
            "[[0.5143744 ]\n",
            " [0.5074325 ]\n",
            " [0.5051132 ]\n",
            " ...\n",
            " [0.5104482 ]\n",
            " [0.49910972]\n",
            " [0.49910972]]\n",
            "<class 'numpy.ndarray'>\n",
            "(17798, 1)\n"
          ]
        }
      ]
    },
    {
      "cell_type": "code",
      "source": [
        "# Trains the DNN model.\n",
        "\n",
        "model.compile(\n",
        "    optimizer=tf.keras.optimizers.Adam(learning_rate=0.1),\n",
        "    loss='mean_squared_error'\n",
        ")\n",
        "history = model.fit(\n",
        "    x_train,\n",
        "    y_train,\n",
        "    epochs=15,\n",
        "    batch_size=64,\n",
        "    validation_data=(x_cross_val, y_cross_val)\n",
        ")\n",
        "print(\"training done ✅\")"
      ],
      "metadata": {
        "colab": {
          "base_uri": "https://localhost:8080/"
        },
        "id": "tfAAwFMSEQCu",
        "outputId": "448a1358-0c3d-4cd6-b733-faf1dc2353d4"
      },
      "execution_count": 74,
      "outputs": [
        {
          "output_type": "stream",
          "name": "stdout",
          "text": [
            "Epoch 1/15\n",
            "279/279 [==============================] - 2s 4ms/step - loss: 0.1520 - val_loss: 0.0720\n",
            "Epoch 2/15\n",
            "279/279 [==============================] - 1s 3ms/step - loss: 0.1112 - val_loss: 0.0763\n",
            "Epoch 3/15\n",
            "279/279 [==============================] - 1s 3ms/step - loss: 0.1077 - val_loss: 0.0846\n",
            "Epoch 4/15\n",
            "279/279 [==============================] - 1s 3ms/step - loss: 0.1068 - val_loss: 0.0639\n",
            "Epoch 5/15\n",
            "279/279 [==============================] - 1s 3ms/step - loss: 0.1033 - val_loss: 0.0808\n",
            "Epoch 6/15\n",
            "279/279 [==============================] - 1s 3ms/step - loss: 0.1084 - val_loss: 0.0842\n",
            "Epoch 7/15\n",
            "279/279 [==============================] - 1s 4ms/step - loss: 0.1071 - val_loss: 0.0666\n",
            "Epoch 8/15\n",
            "279/279 [==============================] - 1s 5ms/step - loss: 0.1069 - val_loss: 0.0633\n",
            "Epoch 9/15\n",
            "279/279 [==============================] - 1s 5ms/step - loss: 0.1061 - val_loss: 0.0958\n",
            "Epoch 10/15\n",
            "279/279 [==============================] - 1s 4ms/step - loss: 0.1071 - val_loss: 0.0682\n",
            "Epoch 11/15\n",
            "279/279 [==============================] - 1s 3ms/step - loss: 0.1066 - val_loss: 0.0671\n",
            "Epoch 12/15\n",
            "279/279 [==============================] - 1s 4ms/step - loss: 0.1056 - val_loss: 0.0605\n",
            "Epoch 13/15\n",
            "279/279 [==============================] - 1s 3ms/step - loss: 0.1075 - val_loss: 0.0680\n",
            "Epoch 14/15\n",
            "279/279 [==============================] - 1s 3ms/step - loss: 0.1053 - val_loss: 0.0682\n",
            "Epoch 15/15\n",
            "279/279 [==============================] - 1s 3ms/step - loss: 0.1064 - val_loss: 0.0675\n",
            "training done ✅\n"
          ]
        }
      ]
    },
    {
      "cell_type": "code",
      "source": [
        "# Evaluates the model on the testing dataset.\n",
        "\n",
        "test_loss = model.evaluate(x_test, y_test)\n",
        "print(f\"test loss = {test_loss}\")"
      ],
      "metadata": {
        "id": "rekHhKKiEWoa",
        "colab": {
          "base_uri": "https://localhost:8080/"
        },
        "outputId": "bdb43965-6740-4532-d332-b7d7c6d86537"
      },
      "execution_count": 75,
      "outputs": [
        {
          "output_type": "stream",
          "name": "stdout",
          "text": [
            "70/70 [==============================] - 0s 2ms/step - loss: 0.0698\n",
            "test loss = 0.06977333873510361\n"
          ]
        }
      ]
    },
    {
      "cell_type": "code",
      "source": [
        "# Makes predictions to view.\n",
        "\n",
        "predictions = model.predict(x_test)\n",
        "print(predictions)\n",
        "distinct = dict()\n",
        "for prediction in predictions:\n",
        "    if prediction[0] not in distinct:\n",
        "        distinct[prediction[0]] = 0\n",
        "    distinct[prediction[0]] += 1\n",
        "print(f\"number of distinct predictions = {len(distinct)}\")"
      ],
      "metadata": {
        "id": "gvSIUPD5RK94",
        "colab": {
          "base_uri": "https://localhost:8080/"
        },
        "outputId": "5960bdb7-7701-4435-bb82-a2accc6e66a5"
      },
      "execution_count": 76,
      "outputs": [
        {
          "output_type": "stream",
          "name": "stdout",
          "text": [
            "70/70 [==============================] - 0s 2ms/step\n",
            "[[ 0.6094918 ]\n",
            " [ 0.74140894]\n",
            " [-0.3581371 ]\n",
            " ...\n",
            " [ 0.6817745 ]\n",
            " [-0.25036466]\n",
            " [-0.25543213]]\n",
            "number of distinct predictions = 1788\n"
          ]
        }
      ]
    },
    {
      "cell_type": "code",
      "source": [
        "# Brings the predictions and labels for the testing dataset back to their original scale.\n",
        "unscaled_y_test = scaler.inverse_transform(np.concatenate((x_test, np.reshape(y_test, (-1, 1))), axis=1))[:, -1]\n",
        "unscaled_predictions = scaler.inverse_transform(np.concatenate((x_test, np.reshape(predictions, (-1, 1))), axis=1))[:, -1]"
      ],
      "metadata": {
        "id": "vC8XU_DfCDXe"
      },
      "execution_count": 77,
      "outputs": []
    },
    {
      "cell_type": "code",
      "source": [
        "# Undoes the natural log transformation for the predictions and labels.\n",
        "unscaled_y_test = np.exp(unscaled_y_test)\n",
        "unscaled_predictions = np.exp(unscaled_predictions)"
      ],
      "metadata": {
        "id": "0_UQRB4hCr_l"
      },
      "execution_count": 78,
      "outputs": []
    },
    {
      "cell_type": "code",
      "source": [
        "print(min(unscaled_predictions))\n",
        "print(max(unscaled_predictions))\n",
        "print(min(unscaled_y_test))\n",
        "print(max(unscaled_y_test))"
      ],
      "metadata": {
        "colab": {
          "base_uri": "https://localhost:8080/"
        },
        "id": "Ye2cXk2QULNL",
        "outputId": "7799d030-1fab-4af9-a1e2-5fde4f7c5bdd"
      },
      "execution_count": 83,
      "outputs": [
        {
          "output_type": "stream",
          "name": "stdout",
          "text": [
            "0.009940230307283327\n",
            "2.151632979224541\n",
            "4.350919999999996e-06\n",
            "36.05100000000002\n"
          ]
        }
      ]
    },
    {
      "cell_type": "code",
      "source": [
        "# Calculates some regression evaluation metrics.\n",
        "\n",
        "unscaled_y_test_mean = np.sum(unscaled_y_test) / len(unscaled_y_test)\n",
        "# print(unscaled_y_test_mean)\n",
        "mse = 0.0\n",
        "mae = 0.0\n",
        "sum_sq_res = 0.0\n",
        "sum_sq_total = 0.0\n",
        "\n",
        "for i in range(len(x_test)):\n",
        "    mse += (unscaled_y_test[i] - unscaled_predictions[i]) ** 2\n",
        "    mae += abs(unscaled_y_test[i] - unscaled_predictions[i])\n",
        "    sum_sq_res += (unscaled_y_test[i] - unscaled_predictions[i]) ** 2\n",
        "    sum_sq_total += (unscaled_y_test[i] - unscaled_y_test_mean) ** 2\n",
        "mse /= len(x_test)\n",
        "mae /= len(x_test)\n",
        "# print(f\"mse = {mse}\")\n",
        "rmse = mse ** (1/2)\n",
        "r2 = 1 - (sum_sq_res / sum_sq_total)\n",
        "\n",
        "print(f\"Root Mean Squared Error = {rmse}\")\n",
        "print(f\"Mean Absolute Error = {mae}\")\n",
        "print(f\"Coefficient of Determination = {r2}\")"
      ],
      "metadata": {
        "id": "-3qQ5RSoRe5s",
        "colab": {
          "base_uri": "https://localhost:8080/"
        },
        "outputId": "bb68d582-8b2d-4974-a6f5-dcc0ba652703"
      },
      "execution_count": 79,
      "outputs": [
        {
          "output_type": "stream",
          "name": "stdout",
          "text": [
            "Root Mean Squared Error = 0.9978321093052058\n",
            "Mean Absolute Error = 0.1876733321348815\n",
            "Coefficient of Determination = 0.33412736396802334\n"
          ]
        }
      ]
    },
    {
      "cell_type": "code",
      "source": [
        "# Calculates some classification evaluation metrics.\n",
        "\n",
        "unscaled_predictions = unscaled_predictions.reshape(-1)\n",
        "unscaled_y_test_binary = np.array(unscaled_y_test <= 0.05)\n",
        "unscaled_predictions_binary = np.array(unscaled_predictions <= 0.05)\n",
        "# print(unscaled_y_test_binary)\n",
        "# print(unscaled_predictions_binary)\n",
        "\n",
        "false_positives = 0.0\n",
        "false_negatives = 0.0\n",
        "true_positives = 0.0\n",
        "true_negatives = 0.0\n",
        "for i in range(len(x_test)):\n",
        "    if unscaled_predictions_binary[i]:\n",
        "        if unscaled_y_test_binary[i]:\n",
        "            true_positives += 1\n",
        "        else:\n",
        "            false_positives += 1\n",
        "    else:\n",
        "        if unscaled_y_test_binary[i]:\n",
        "            false_negatives += 1\n",
        "        else:\n",
        "            true_negatives += 1\n",
        "accuracy = (true_positives + true_negatives) / \\\n",
        "    (true_positives + true_negatives + false_positives + false_negatives)\n",
        "print(f\"accuracy = {accuracy}\")\n",
        "print(f\"FN = {false_negatives}, FP = {false_positives}, TP = {true_positives}\")\n",
        "precision = true_positives / (true_positives + false_positives)\n",
        "# precision = 0.0000000001\n",
        "recall = true_positives / (true_positives + false_negatives)\n",
        "# recall = 0.0000000001\n",
        "print(f\"precision = {precision}\")\n",
        "print(f\"recall = {recall}\")\n",
        "f1_score = 2 / ((1 / precision) + (1 / recall))\n",
        "print(f\"F1-Score = {f1_score}\")"
      ],
      "metadata": {
        "id": "fA2wsbJ6ZmGH",
        "colab": {
          "base_uri": "https://localhost:8080/"
        },
        "outputId": "b1619f87-b10b-4d7a-d9c1-fe3b7f7383ca"
      },
      "execution_count": 80,
      "outputs": [
        {
          "output_type": "stream",
          "name": "stdout",
          "text": [
            "accuracy = 0.9793258426966293\n",
            "FN = 1.0, FP = 45.0, TP = 1126.0\n",
            "precision = 0.9615713065755764\n",
            "recall = 0.9991126885536823\n",
            "F1-Score = 0.979982593559617\n"
          ]
        }
      ]
    },
    {
      "cell_type": "code",
      "source": [
        "# Creates graphs of the training loss and accuracy.\n",
        "\n",
        "import matplotlib.pyplot as plt\n",
        "\n",
        "plt.plot(history.history['loss'], label='Training Loss')\n",
        "plt.xlabel('Epochs')\n",
        "plt.ylabel('Loss')\n",
        "plt.legend()\n",
        "plt.show()\n",
        "print(history.history)\n",
        "print(type(history.history))"
      ],
      "metadata": {
        "colab": {
          "base_uri": "https://localhost:8080/",
          "height": 505
        },
        "id": "KCfcatmmI2cp",
        "outputId": "0fde1bf0-2dce-4b55-f60e-473e6852b23f"
      },
      "execution_count": 81,
      "outputs": [
        {
          "output_type": "display_data",
          "data": {
            "text/plain": [
              "<Figure size 640x480 with 1 Axes>"
            ],
            "image/png": "[encoded data removed]"
          },
          "metadata": {}
        },
        {
          "output_type": "stream",
          "name": "stdout",
          "text": [
            "{'loss': [0.15198764204978943, 0.11118905991315842, 0.10765654593706131, 0.10683497786521912, 0.10326912999153137, 0.10838265717029572, 0.10711470991373062, 0.10690703243017197, 0.10611074417829514, 0.10706903040409088, 0.10656754672527313, 0.10562438517808914, 0.10750717669725418, 0.10525904595851898, 0.10642445832490921], 'val_loss': [0.07196322083473206, 0.07625163346529007, 0.08457181602716446, 0.06388573348522186, 0.08078362792730331, 0.08421751856803894, 0.06657317280769348, 0.06333165615797043, 0.09575974196195602, 0.06819363683462143, 0.06706593930721283, 0.06053090840578079, 0.0680285096168518, 0.06819310784339905, 0.0675421804189682]}\n",
            "<class 'dict'>\n"
          ]
        }
      ]
    },
    {
      "cell_type": "markdown",
      "source": [
        "The remaining cells were mainly used for testing."
      ],
      "metadata": {
        "id": "_CliUGQ-OqAX"
      }
    },
    {
      "cell_type": "code",
      "source": [
        "# Finds the distribution of the MOID values.\n",
        "\n",
        "minimum = 1000000.0\n",
        "maximum = 0.0\n",
        "for i in range(1, len(dataset)):\n",
        "    moid = dataset[i][col_to_num[\"moid\"]]\n",
        "    minimum = min(minimum, moid)\n",
        "    maximum = max(maximum, moid)\n",
        "print(f\"min = {minimum}, max = {maximum}\")"
      ],
      "metadata": {
        "id": "GuZP6FifThdf",
        "colab": {
          "base_uri": "https://localhost:8080/"
        },
        "outputId": "daad69e9-15a4-4fdd-d30e-55516667fede"
      },
      "execution_count": 82,
      "outputs": [
        {
          "output_type": "stream",
          "name": "stdout",
          "text": [
            "min = -14.604261561437463, max = 4.006015954428407\n"
          ]
        }
      ]
    },
    {
      "cell_type": "code",
      "source": [
        "# Shows the distribution of the MOID values.\n",
        "\n",
        "import matplotlib.pyplot as plt\n",
        "\n",
        "def summary(data):\n",
        "    print(f\"Mean: {np.mean(data)}\")\n",
        "    print(f\"Standard deviation: {np.std(data)}\")\n",
        "\n",
        "    summary_parts = [\"Minimum\", \"1st Quartile\", \"Median\", \"3rd Quartile\", \"Maximum\"]\n",
        "    for i in range(5):\n",
        "        print(f\"{summary_parts[i]}: {np.percentile(data, 25 * i)}\")\n",
        "    print(f\"Range: {np.max(data) - np.min(data)}\")\n",
        "\n",
        "    z_scores = np.zscore(data)\n",
        "    print(f\"Minimum z-score: {min(z_scores)}\")\n",
        "    print(f\"Maximum z-score: {max(z_scores)}\")\n",
        "\n",
        "moids = dataset[:, col_to_num[\"moid\"]]\n",
        "# print(len(moids))\n",
        "# summary(moids)\n",
        "plt.hist(moids, bins=1000, color=\"blue\")\n",
        "plt.xlabel('MOID Values')\n",
        "plt.ylabel('Frequency')\n",
        "plt.title('Histogram of MOID Values')\n",
        "plt.show()\n",
        "\n",
        "plt.hist(np.log(moids), bins=1000, color=\"blue\")\n",
        "plt.xlabel('Natural Log of MOID Values')\n",
        "plt.ylabel('Frequency')\n",
        "plt.title('Histogram of MOID Values on a Logarithmic Scale')\n",
        "plt.show()"
      ],
      "metadata": {
        "colab": {
          "base_uri": "https://localhost:8080/",
          "height": 1000
        },
        "id": "z4yO8u5-_6K3",
        "outputId": "6ece594c-5bcb-48c0-e6be-eadfdd6cace0"
      },
      "execution_count": 19,
      "outputs": [
        {
          "output_type": "display_data",
          "data": {
            "text/plain": [
              "<Figure size 640x480 with 1 Axes>"
            ],
            "image/png": "[encoded data removed]"
          },
          "metadata": {}
        },
        {
          "output_type": "stream",
          "name": "stderr",
          "text": [
            "<ipython-input-19-759e766028f4>:27: RuntimeWarning: divide by zero encountered in log\n",
            "  plt.hist(np.log(moids), bins=1000, color=\"blue\")\n",
            "<ipython-input-19-759e766028f4>:27: RuntimeWarning: invalid value encountered in log\n",
            "  plt.hist(np.log(moids), bins=1000, color=\"blue\")\n"
          ]
        },
        {
          "output_type": "error",
          "ename": "ValueError",
          "evalue": "supplied range of [-inf, 1.476012260210004] is not finite",
          "traceback": [
            "\u001b[0;31m---------------------------------------------------------------------------\u001b[0m",
            "\u001b[0;31mValueError\u001b[0m                                Traceback (most recent call last)",
            "\u001b[0;32m<ipython-input-19-759e766028f4>\u001b[0m in \u001b[0;36m<cell line: 27>\u001b[0;34m()\u001b[0m\n\u001b[1;32m     25\u001b[0m \u001b[0mplt\u001b[0m\u001b[0;34m.\u001b[0m\u001b[0mshow\u001b[0m\u001b[0;34m(\u001b[0m\u001b[0;34m)\u001b[0m\u001b[0;34m\u001b[0m\u001b[0;34m\u001b[0m\u001b[0m\n\u001b[1;32m     26\u001b[0m \u001b[0;34m\u001b[0m\u001b[0m\n\u001b[0;32m---> 27\u001b[0;31m \u001b[0mplt\u001b[0m\u001b[0;34m.\u001b[0m\u001b[0mhist\u001b[0m\u001b[0;34m(\u001b[0m\u001b[0mnp\u001b[0m\u001b[0;34m.\u001b[0m\u001b[0mlog\u001b[0m\u001b[0;34m(\u001b[0m\u001b[0mmoids\u001b[0m\u001b[0;34m)\u001b[0m\u001b[0;34m,\u001b[0m \u001b[0mbins\u001b[0m\u001b[0;34m=\u001b[0m\u001b[0;36m1000\u001b[0m\u001b[0;34m,\u001b[0m \u001b[0mcolor\u001b[0m\u001b[0;34m=\u001b[0m\u001b[0;34m\"blue\"\u001b[0m\u001b[0;34m)\u001b[0m\u001b[0;34m\u001b[0m\u001b[0;34m\u001b[0m\u001b[0m\n\u001b[0m\u001b[1;32m     28\u001b[0m \u001b[0mplt\u001b[0m\u001b[0;34m.\u001b[0m\u001b[0mxlabel\u001b[0m\u001b[0;34m(\u001b[0m\u001b[0;34m'Natural Log of MOID Values'\u001b[0m\u001b[0;34m)\u001b[0m\u001b[0;34m\u001b[0m\u001b[0;34m\u001b[0m\u001b[0m\n\u001b[1;32m     29\u001b[0m \u001b[0mplt\u001b[0m\u001b[0;34m.\u001b[0m\u001b[0mylabel\u001b[0m\u001b[0;34m(\u001b[0m\u001b[0;34m'Frequency'\u001b[0m\u001b[0;34m)\u001b[0m\u001b[0;34m\u001b[0m\u001b[0;34m\u001b[0m\u001b[0m\n",
            "\u001b[0;32m/usr/local/lib/python3.10/dist-packages/matplotlib/pyplot.py\u001b[0m in \u001b[0;36mhist\u001b[0;34m(x, bins, range, density, weights, cumulative, bottom, histtype, align, orientation, rwidth, log, color, label, stacked, data, **kwargs)\u001b[0m\n\u001b[1;32m   2643\u001b[0m         \u001b[0morientation\u001b[0m\u001b[0;34m=\u001b[0m\u001b[0;34m'vertical'\u001b[0m\u001b[0;34m,\u001b[0m \u001b[0mrwidth\u001b[0m\u001b[0;34m=\u001b[0m\u001b[0;32mNone\u001b[0m\u001b[0;34m,\u001b[0m \u001b[0mlog\u001b[0m\u001b[0;34m=\u001b[0m\u001b[0;32mFalse\u001b[0m\u001b[0;34m,\u001b[0m \u001b[0mcolor\u001b[0m\u001b[0;34m=\u001b[0m\u001b[0;32mNone\u001b[0m\u001b[0;34m,\u001b[0m\u001b[0;34m\u001b[0m\u001b[0;34m\u001b[0m\u001b[0m\n\u001b[1;32m   2644\u001b[0m         label=None, stacked=False, *, data=None, **kwargs):\n\u001b[0;32m-> 2645\u001b[0;31m     return gca().hist(\n\u001b[0m\u001b[1;32m   2646\u001b[0m         \u001b[0mx\u001b[0m\u001b[0;34m,\u001b[0m \u001b[0mbins\u001b[0m\u001b[0;34m=\u001b[0m\u001b[0mbins\u001b[0m\u001b[0;34m,\u001b[0m \u001b[0mrange\u001b[0m\u001b[0;34m=\u001b[0m\u001b[0mrange\u001b[0m\u001b[0;34m,\u001b[0m \u001b[0mdensity\u001b[0m\u001b[0;34m=\u001b[0m\u001b[0mdensity\u001b[0m\u001b[0;34m,\u001b[0m \u001b[0mweights\u001b[0m\u001b[0;34m=\u001b[0m\u001b[0mweights\u001b[0m\u001b[0;34m,\u001b[0m\u001b[0;34m\u001b[0m\u001b[0;34m\u001b[0m\u001b[0m\n\u001b[1;32m   2647\u001b[0m         \u001b[0mcumulative\u001b[0m\u001b[0;34m=\u001b[0m\u001b[0mcumulative\u001b[0m\u001b[0;34m,\u001b[0m \u001b[0mbottom\u001b[0m\u001b[0;34m=\u001b[0m\u001b[0mbottom\u001b[0m\u001b[0;34m,\u001b[0m \u001b[0mhisttype\u001b[0m\u001b[0;34m=\u001b[0m\u001b[0mhisttype\u001b[0m\u001b[0;34m,\u001b[0m\u001b[0;34m\u001b[0m\u001b[0;34m\u001b[0m\u001b[0m\n",
            "\u001b[0;32m/usr/local/lib/python3.10/dist-packages/matplotlib/__init__.py\u001b[0m in \u001b[0;36minner\u001b[0;34m(ax, data, *args, **kwargs)\u001b[0m\n\u001b[1;32m   1440\u001b[0m     \u001b[0;32mdef\u001b[0m \u001b[0minner\u001b[0m\u001b[0;34m(\u001b[0m\u001b[0max\u001b[0m\u001b[0;34m,\u001b[0m \u001b[0;34m*\u001b[0m\u001b[0margs\u001b[0m\u001b[0;34m,\u001b[0m \u001b[0mdata\u001b[0m\u001b[0;34m=\u001b[0m\u001b[0;32mNone\u001b[0m\u001b[0;34m,\u001b[0m \u001b[0;34m**\u001b[0m\u001b[0mkwargs\u001b[0m\u001b[0;34m)\u001b[0m\u001b[0;34m:\u001b[0m\u001b[0;34m\u001b[0m\u001b[0;34m\u001b[0m\u001b[0m\n\u001b[1;32m   1441\u001b[0m         \u001b[0;32mif\u001b[0m \u001b[0mdata\u001b[0m \u001b[0;32mis\u001b[0m \u001b[0;32mNone\u001b[0m\u001b[0;34m:\u001b[0m\u001b[0;34m\u001b[0m\u001b[0;34m\u001b[0m\u001b[0m\n\u001b[0;32m-> 1442\u001b[0;31m             \u001b[0;32mreturn\u001b[0m \u001b[0mfunc\u001b[0m\u001b[0;34m(\u001b[0m\u001b[0max\u001b[0m\u001b[0;34m,\u001b[0m \u001b[0;34m*\u001b[0m\u001b[0mmap\u001b[0m\u001b[0;34m(\u001b[0m\u001b[0msanitize_sequence\u001b[0m\u001b[0;34m,\u001b[0m \u001b[0margs\u001b[0m\u001b[0;34m)\u001b[0m\u001b[0;34m,\u001b[0m \u001b[0;34m**\u001b[0m\u001b[0mkwargs\u001b[0m\u001b[0;34m)\u001b[0m\u001b[0;34m\u001b[0m\u001b[0;34m\u001b[0m\u001b[0m\n\u001b[0m\u001b[1;32m   1443\u001b[0m \u001b[0;34m\u001b[0m\u001b[0m\n\u001b[1;32m   1444\u001b[0m         \u001b[0mbound\u001b[0m \u001b[0;34m=\u001b[0m \u001b[0mnew_sig\u001b[0m\u001b[0;34m.\u001b[0m\u001b[0mbind\u001b[0m\u001b[0;34m(\u001b[0m\u001b[0max\u001b[0m\u001b[0;34m,\u001b[0m \u001b[0;34m*\u001b[0m\u001b[0margs\u001b[0m\u001b[0;34m,\u001b[0m \u001b[0;34m**\u001b[0m\u001b[0mkwargs\u001b[0m\u001b[0;34m)\u001b[0m\u001b[0;34m\u001b[0m\u001b[0;34m\u001b[0m\u001b[0m\n",
            "\u001b[0;32m/usr/local/lib/python3.10/dist-packages/matplotlib/axes/_axes.py\u001b[0m in \u001b[0;36mhist\u001b[0;34m(self, x, bins, range, density, weights, cumulative, bottom, histtype, align, orientation, rwidth, log, color, label, stacked, **kwargs)\u001b[0m\n\u001b[1;32m   6788\u001b[0m             \u001b[0;31m# this will automatically overwrite bins,\u001b[0m\u001b[0;34m\u001b[0m\u001b[0;34m\u001b[0m\u001b[0m\n\u001b[1;32m   6789\u001b[0m             \u001b[0;31m# so that each histogram uses the same bins\u001b[0m\u001b[0;34m\u001b[0m\u001b[0;34m\u001b[0m\u001b[0m\n\u001b[0;32m-> 6790\u001b[0;31m             \u001b[0mm\u001b[0m\u001b[0;34m,\u001b[0m \u001b[0mbins\u001b[0m \u001b[0;34m=\u001b[0m \u001b[0mnp\u001b[0m\u001b[0;34m.\u001b[0m\u001b[0mhistogram\u001b[0m\u001b[0;34m(\u001b[0m\u001b[0mx\u001b[0m\u001b[0;34m[\u001b[0m\u001b[0mi\u001b[0m\u001b[0;34m]\u001b[0m\u001b[0;34m,\u001b[0m \u001b[0mbins\u001b[0m\u001b[0;34m,\u001b[0m \u001b[0mweights\u001b[0m\u001b[0;34m=\u001b[0m\u001b[0mw\u001b[0m\u001b[0;34m[\u001b[0m\u001b[0mi\u001b[0m\u001b[0;34m]\u001b[0m\u001b[0;34m,\u001b[0m \u001b[0;34m**\u001b[0m\u001b[0mhist_kwargs\u001b[0m\u001b[0;34m)\u001b[0m\u001b[0;34m\u001b[0m\u001b[0;34m\u001b[0m\u001b[0m\n\u001b[0m\u001b[1;32m   6791\u001b[0m             \u001b[0mtops\u001b[0m\u001b[0;34m.\u001b[0m\u001b[0mappend\u001b[0m\u001b[0;34m(\u001b[0m\u001b[0mm\u001b[0m\u001b[0;34m)\u001b[0m\u001b[0;34m\u001b[0m\u001b[0;34m\u001b[0m\u001b[0m\n\u001b[1;32m   6792\u001b[0m         \u001b[0mtops\u001b[0m \u001b[0;34m=\u001b[0m \u001b[0mnp\u001b[0m\u001b[0;34m.\u001b[0m\u001b[0marray\u001b[0m\u001b[0;34m(\u001b[0m\u001b[0mtops\u001b[0m\u001b[0;34m,\u001b[0m \u001b[0mfloat\u001b[0m\u001b[0;34m)\u001b[0m  \u001b[0;31m# causes problems later if it's an int\u001b[0m\u001b[0;34m\u001b[0m\u001b[0;34m\u001b[0m\u001b[0m\n",
            "\u001b[0;32m/usr/local/lib/python3.10/dist-packages/numpy/lib/histograms.py\u001b[0m in \u001b[0;36mhistogram\u001b[0;34m(a, bins, range, density, weights)\u001b[0m\n\u001b[1;32m    778\u001b[0m     \u001b[0ma\u001b[0m\u001b[0;34m,\u001b[0m \u001b[0mweights\u001b[0m \u001b[0;34m=\u001b[0m \u001b[0m_ravel_and_check_weights\u001b[0m\u001b[0;34m(\u001b[0m\u001b[0ma\u001b[0m\u001b[0;34m,\u001b[0m \u001b[0mweights\u001b[0m\u001b[0;34m)\u001b[0m\u001b[0;34m\u001b[0m\u001b[0;34m\u001b[0m\u001b[0m\n\u001b[1;32m    779\u001b[0m \u001b[0;34m\u001b[0m\u001b[0m\n\u001b[0;32m--> 780\u001b[0;31m     \u001b[0mbin_edges\u001b[0m\u001b[0;34m,\u001b[0m \u001b[0muniform_bins\u001b[0m \u001b[0;34m=\u001b[0m \u001b[0m_get_bin_edges\u001b[0m\u001b[0;34m(\u001b[0m\u001b[0ma\u001b[0m\u001b[0;34m,\u001b[0m \u001b[0mbins\u001b[0m\u001b[0;34m,\u001b[0m \u001b[0mrange\u001b[0m\u001b[0;34m,\u001b[0m \u001b[0mweights\u001b[0m\u001b[0;34m)\u001b[0m\u001b[0;34m\u001b[0m\u001b[0;34m\u001b[0m\u001b[0m\n\u001b[0m\u001b[1;32m    781\u001b[0m \u001b[0;34m\u001b[0m\u001b[0m\n\u001b[1;32m    782\u001b[0m     \u001b[0;31m# Histogram is an integer or a float array depending on the weights.\u001b[0m\u001b[0;34m\u001b[0m\u001b[0;34m\u001b[0m\u001b[0m\n",
            "\u001b[0;32m/usr/local/lib/python3.10/dist-packages/numpy/lib/histograms.py\u001b[0m in \u001b[0;36m_get_bin_edges\u001b[0;34m(a, bins, range, weights)\u001b[0m\n\u001b[1;32m    424\u001b[0m             \u001b[0;32mraise\u001b[0m \u001b[0mValueError\u001b[0m\u001b[0;34m(\u001b[0m\u001b[0;34m'`bins` must be positive, when an integer'\u001b[0m\u001b[0;34m)\u001b[0m\u001b[0;34m\u001b[0m\u001b[0;34m\u001b[0m\u001b[0m\n\u001b[1;32m    425\u001b[0m \u001b[0;34m\u001b[0m\u001b[0m\n\u001b[0;32m--> 426\u001b[0;31m         \u001b[0mfirst_edge\u001b[0m\u001b[0;34m,\u001b[0m \u001b[0mlast_edge\u001b[0m \u001b[0;34m=\u001b[0m \u001b[0m_get_outer_edges\u001b[0m\u001b[0;34m(\u001b[0m\u001b[0ma\u001b[0m\u001b[0;34m,\u001b[0m \u001b[0mrange\u001b[0m\u001b[0;34m)\u001b[0m\u001b[0;34m\u001b[0m\u001b[0;34m\u001b[0m\u001b[0m\n\u001b[0m\u001b[1;32m    427\u001b[0m \u001b[0;34m\u001b[0m\u001b[0m\n\u001b[1;32m    428\u001b[0m     \u001b[0;32melif\u001b[0m \u001b[0mnp\u001b[0m\u001b[0;34m.\u001b[0m\u001b[0mndim\u001b[0m\u001b[0;34m(\u001b[0m\u001b[0mbins\u001b[0m\u001b[0;34m)\u001b[0m \u001b[0;34m==\u001b[0m \u001b[0;36m1\u001b[0m\u001b[0;34m:\u001b[0m\u001b[0;34m\u001b[0m\u001b[0;34m\u001b[0m\u001b[0m\n",
            "\u001b[0;32m/usr/local/lib/python3.10/dist-packages/numpy/lib/histograms.py\u001b[0m in \u001b[0;36m_get_outer_edges\u001b[0;34m(a, range)\u001b[0m\n\u001b[1;32m    313\u001b[0m                 'max must be larger than min in range parameter.')\n\u001b[1;32m    314\u001b[0m         \u001b[0;32mif\u001b[0m \u001b[0;32mnot\u001b[0m \u001b[0;34m(\u001b[0m\u001b[0mnp\u001b[0m\u001b[0;34m.\u001b[0m\u001b[0misfinite\u001b[0m\u001b[0;34m(\u001b[0m\u001b[0mfirst_edge\u001b[0m\u001b[0;34m)\u001b[0m \u001b[0;32mand\u001b[0m \u001b[0mnp\u001b[0m\u001b[0;34m.\u001b[0m\u001b[0misfinite\u001b[0m\u001b[0;34m(\u001b[0m\u001b[0mlast_edge\u001b[0m\u001b[0;34m)\u001b[0m\u001b[0;34m)\u001b[0m\u001b[0;34m:\u001b[0m\u001b[0;34m\u001b[0m\u001b[0;34m\u001b[0m\u001b[0m\n\u001b[0;32m--> 315\u001b[0;31m             raise ValueError(\n\u001b[0m\u001b[1;32m    316\u001b[0m                 \"supplied range of [{}, {}] is not finite\".format(first_edge, last_edge))\n\u001b[1;32m    317\u001b[0m     \u001b[0;32melif\u001b[0m \u001b[0ma\u001b[0m\u001b[0;34m.\u001b[0m\u001b[0msize\u001b[0m \u001b[0;34m==\u001b[0m \u001b[0;36m0\u001b[0m\u001b[0;34m:\u001b[0m\u001b[0;34m\u001b[0m\u001b[0;34m\u001b[0m\u001b[0m\n",
            "\u001b[0;31mValueError\u001b[0m: supplied range of [-inf, 1.476012260210004] is not finite"
          ]
        },
        {
          "output_type": "display_data",
          "data": {
            "text/plain": [
              "<Figure size 640x480 with 1 Axes>"
            ],
            "image/png": "[encoded data removed]"
          },
          "metadata": {}
        }
      ]
    },
    {
      "cell_type": "code",
      "source": [
        "# Counts the number of MOIDs less than 0.05 au.\n",
        "\n",
        "# data = tf.keras.datasets.mnist\n",
        "# (x_train, y_train), (x_test, y_test) = data.load_data()\n",
        "# print(x_train.shape)\n",
        "# print(y_train.shape)\n",
        "# print(x_test.shape)\n",
        "# print(y_test.shape)\n",
        "# # for i in range(100):\n",
        "# #     print(f\"x_test[{i}] = {x_test}\")\n",
        "# print(type(x_train))\n",
        "# print(type(y_test.shape))\n",
        "\n",
        "count = 0\n",
        "for i in range(len(dataset)):\n",
        "    if dataset[i][col_to_num[\"moid\"]] < 0.05:\n",
        "        count += 1\n",
        "print(count)\n",
        "print(count/len(dataset))\n",
        "# a = np.array([[1,2,3],[4,5,6],[7,8,9],[10,11,12],[13,14,15]])\n",
        "# print(a)\n",
        "# np.random.shuffle(a)\n",
        "# print(a)\n",
        "\n"
      ],
      "metadata": {
        "colab": {
          "base_uri": "https://localhost:8080/"
        },
        "id": "0OUTk_yFsIzp",
        "outputId": "f54358e3-703f-4c08-8bb5-50fadde1e9ca"
      },
      "execution_count": 65,
      "outputs": [
        {
          "output_type": "stream",
          "name": "stdout",
          "text": [
            "14694\n",
            "0.6604638619201726\n"
          ]
        }
      ]
    }
  ]
}